{
 "cells": [
  {
   "cell_type": "code",
   "execution_count": 5,
   "metadata": {},
   "outputs": [
    {
     "name": "stdout",
     "output_type": "stream",
     "text": [
      "\n",
      "\n",
      "Statistics\n",
      "               Pit        BVit        Eit\n",
      "count    45.000000   45.000000  45.000000\n",
      "mean     74.581556   13.928222   1.121333\n",
      "std     178.513122   35.882624   6.496291\n",
      "min       0.020000   -1.500000  -9.170000\n",
      "25%       2.750000    0.560000  -0.810000\n",
      "50%       6.020000    2.540000   0.020000\n",
      "75%      57.140000    8.600000   0.570000\n",
      "max    1037.140000  219.500000  29.950000\n",
      "\n",
      "\n",
      "Correlations\n",
      "           Pit      BVit       Eit\n",
      "Pit   1.000000  0.935528  0.866117\n",
      "BVit  0.935528  1.000000  0.866192\n",
      "Eit   0.866117  0.866192  1.000000\n"
     ]
    },
    {
     "data": {
      "image/png": "[encoded data removed]",
      "text/plain": [
       "<Figure size 432x288 with 4 Axes>"
      ]
     },
     "metadata": {},
     "output_type": "display_data"
    },
    {
     "data": {
      "text/plain": [
       "<Figure size 432x288 with 0 Axes>"
      ]
     },
     "metadata": {},
     "output_type": "display_data"
    }
   ],
   "source": [
    "import pandas as pd\n",
    "import csv\n",
    "import numpy as np\n",
    "import matplotlib.pyplot as plt\n",
    "\n",
    "# importing using pandas and storing as data frame\n",
    "with open('data.csv', 'r') as file:\n",
    "        data_frame = pd.read_csv(file, sep=',')\n",
    "\n",
    "print(\"\\n\")\n",
    "\n",
    "print(\"Statistics\")\n",
    "print(data_frame.describe())\n",
    "print(\"\\n\")\n",
    "\n",
    "print(\"Correlations\")\n",
    "print(data_frame.corr())\n",
    "\n",
    "data_frame.hist()\n",
    "plt.tight_layout()\n",
    "plt.show()\n",
    "\n"
   ]
  },
  {
   "cell_type": "code",
   "execution_count": null,
   "metadata": {},
   "outputs": [],
   "source": []
  },
  {
   "cell_type": "code",
   "execution_count": null,
   "metadata": {},
   "outputs": [],
   "source": []
  },
  {
   "cell_type": "code",
   "execution_count": null,
   "metadata": {},
   "outputs": [],
   "source": []
  },
  {
   "cell_type": "code",
   "execution_count": null,
   "metadata": {},
   "outputs": [],
   "source": []
  }
 ],
 "metadata": {
  "kernelspec": {
   "display_name": "Python 3",
   "language": "python",
   "name": "python3"
  },
  "language_info": {
   "codemirror_mode": {
    "name": "ipython",
    "version": 3
   },
   "file_extension": ".py",
   "mimetype": "text/x-python",
   "name": "python",
   "nbconvert_exporter": "python",
   "pygments_lexer": "ipython3",
   "version": "3.6.5"
  }
 },
 "nbformat": 4,
 "nbformat_minor": 2
}
